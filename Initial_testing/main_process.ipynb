import numpy as np
import NSFopen as ns
from pathlib import Path
import os
import matplotlib.pyplot as plt
import numpy.fft as fft

current_dir = Path(os.getcwd())
parent_dir = current_dir.parent
data_folder = "/Users/thomashartigan/Library/CloudStorage/GoogleDrive-tjh200@cam.ac.uk/My Drive/E2/Images/Initial Testing/Setup A/" #parent_dir.as_posix() +'/Raw_Data/'

#print(data_folder + 'Image04399.nid')
afm = ns.read(data_folder + 'Image04782.nid')
data = afm.data # raw data
param = afm.param # parameters
print(data.keys())
print(param.keys())
a = np.linspace(0,100,100)
print(a)
forward_current = data['Image']['Forward']['Tip Current']